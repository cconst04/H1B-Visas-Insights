{
 "cells": [
  {
   "cell_type": "code",
   "execution_count": 1,
   "id": "creative-eugene",
   "metadata": {},
   "outputs": [],
   "source": [
    "import os\n",
    "import sys\n",
    "home = os.path.abspath('..')\n",
    "os.chdir(home)\n",
    "sys.path.append(home)\n",
    "\n",
    "import pandas as pd_real\n",
    "import modin.pandas as pd\n",
    "import matplotlib.pyplot as plt\n",
    "import seaborn as sns\n",
    "import re"
   ]
  },
  {
   "cell_type": "code",
   "execution_count": 2,
   "id": "lasting-detector",
   "metadata": {},
   "outputs": [],
   "source": [
    "def get_bounds(x):\n",
    "    matches = re.findall(\"\\d+\",x)\n",
    "    matches = list(map(float,matches))\n",
    "        \n",
    "    if len(matches)==0:\n",
    "        matches = [float(\"-inf\"),float(\"inf\")]\n",
    "    \n",
    "    if len(matches)==1:\n",
    "        matches = matches+[float(\"inf\")]\n",
    "    \n",
    "    return matches"
   ]
  },
  {
   "cell_type": "code",
   "execution_count": 51,
   "id": "athletic-harvey",
   "metadata": {},
   "outputs": [],
   "source": [
    "df = pd.read_csv('data/processed/processed_2019.csv')"
   ]
  },
  {
   "cell_type": "code",
   "execution_count": 52,
   "id": "dental-average",
   "metadata": {},
   "outputs": [],
   "source": [
    "rare = set(df[\"EMPLOYER_STATE\"].dropna()) - set(states['Code'])\n",
    "a = df[\"EMPLOYER_STATE\"].value_counts(normalize = True)*100"
   ]
  },
  {
   "cell_type": "code",
   "execution_count": 50,
   "id": "worst-spray",
   "metadata": {},
   "outputs": [
    {
     "data": {
      "text/plain": [
       "PR    0.104045\n",
       "MP    0.058897\n",
       "GU    0.055498\n",
       "VI    0.009910\n",
       "FM    0.000181\n",
       "AS    0.000181\n",
       "dtype: float64"
      ]
     },
     "execution_count": 50,
     "metadata": {},
     "output_type": "execute_result"
    }
   ],
   "source": [
    "a[a.index.isin(rare)]"
   ]
  },
  {
   "cell_type": "code",
   "execution_count": 16,
   "id": "completed-gauge",
   "metadata": {},
   "outputs": [
    {
     "data": {
      "text/plain": [
       "32.119612840219666"
      ]
     },
     "execution_count": 16,
     "metadata": {},
     "output_type": "execute_result"
    }
   ],
   "source": [
    "sum(df['WAGE_RATE_OF_PAY_FROM']<80000)*100/len(df)"
   ]
  },
  {
   "cell_type": "code",
   "execution_count": 19,
   "id": "wound-daniel",
   "metadata": {},
   "outputs": [
    {
     "data": {
      "text/plain": [
       "Y    587741\n",
       "N     10255\n",
       "dtype: int64"
      ]
     },
     "execution_count": 19,
     "metadata": {},
     "output_type": "execute_result"
    }
   ],
   "source": [
    "df['FULL_TIME_POSITION.1'].value_counts()"
   ]
  },
  {
   "cell_type": "code",
   "execution_count": 20,
   "id": "extended-tackle",
   "metadata": {},
   "outputs": [],
   "source": [
    "states = pd.read_csv(\"data/external/states.csv\")\n"
   ]
  },
  {
   "cell_type": "code",
   "execution_count": 212,
   "id": "favorite-wings",
   "metadata": {},
   "outputs": [],
   "source": [
    "person_income = pd.read_csv(\"data/external/personal_income.csv\",)"
   ]
  },
  {
   "cell_type": "code",
   "execution_count": 213,
   "id": "ideal-provision",
   "metadata": {},
   "outputs": [],
   "source": [
    "person_income['group'] = person_income['group'].str.replace(',','').str.replace('$','')\n",
    "person_income['frequency'] = person_income['frequency'].str.replace(',','').str.replace('$','').astype(int)"
   ]
  },
  {
   "cell_type": "code",
   "execution_count": 214,
   "id": "suspended-people",
   "metadata": {},
   "outputs": [],
   "source": [
    "person_income[[\"lower_bound\",\n",
    "               \"upper_bound\"]] = pd.DataFrame(person_income['group']\\\n",
    "                                                            .apply(get_bounds)\\\n",
    "                                                            .to_list())"
   ]
  },
  {
   "cell_type": "code",
   "execution_count": 220,
   "id": "helpful-ireland",
   "metadata": {},
   "outputs": [
    {
     "name": "stderr",
     "output_type": "stream",
     "text": [
      "UserWarning: `DataFrame.to_csv` defaulting to pandas implementation.\n",
      "UserWarning: Distributing <class 'pandas.core.frame.DataFrame'> object. This may take some time.\n"
     ]
    }
   ],
   "source": [
    "person_income[1:].to_csv(\"data/processed/personal_income.csv\",index=False)"
   ]
  },
  {
   "cell_type": "code",
   "execution_count": 8,
   "id": "satisfactory-cathedral",
   "metadata": {},
   "outputs": [],
   "source": [
    "a = [i for i in df['EMPLOYER_NAME'].str.lower() if 'microsoft' in str(i)]"
   ]
  },
  {
   "cell_type": "code",
   "execution_count": 9,
   "id": "major-frequency",
   "metadata": {},
   "outputs": [
    {
     "data": {
      "text/plain": [
       "MICROSOFT CORPORATION                    6040\n",
       "MICROSOFT OPERATIONS PUERTO RICO, LLC       1\n",
       "MICROSOFT                                   1\n",
       "dtype: int64"
      ]
     },
     "execution_count": 9,
     "metadata": {},
     "output_type": "execute_result"
    }
   ],
   "source": [
    "df.loc[df['EMPLOYER_NAME'].str.lower().isin(a), 'EMPLOYER_NAME'].value_counts()"
   ]
  },
  {
   "cell_type": "code",
   "execution_count": 11,
   "id": "positive-quality",
   "metadata": {},
   "outputs": [
    {
     "data": {
      "text/html": [
       "<div>\n",
       "<style scoped>\n",
       "    .dataframe tbody tr th:only-of-type {\n",
       "        vertical-align: middle;\n",
       "    }\n",
       "\n",
       "    .dataframe tbody tr th {\n",
       "        vertical-align: top;\n",
       "    }\n",
       "\n",
       "    .dataframe thead th {\n",
       "        text-align: right;\n",
       "    }\n",
       "</style>\n",
       "<table border=\"1\" class=\"dataframe\">\n",
       "  <thead>\n",
       "    <tr style=\"text-align: right;\">\n",
       "      <th></th>\n",
       "      <th>Unnamed: 0</th>\n",
       "      <th>SOC_CODE</th>\n",
       "      <th>CASE_NUMBER</th>\n",
       "      <th>CASE_STATUS</th>\n",
       "      <th>FULL_TIME_POSITION</th>\n",
       "      <th>PERIOD_OF_EMPLOYMENT_START_DATE</th>\n",
       "      <th>PERIOD_OF_EMPLOYMENT_END_DATE</th>\n",
       "      <th>EMPLOYER_NAME</th>\n",
       "      <th>EMPLOYER_STATE</th>\n",
       "      <th>WAGE_RATE_OF_PAY_FROM_1</th>\n",
       "      <th>WAGE_UNIT_OF_PAY_1</th>\n",
       "      <th>NAICS_CODE</th>\n",
       "      <th>FULL_TIME_POSITION.1</th>\n",
       "    </tr>\n",
       "  </thead>\n",
       "  <tbody>\n",
       "    <tr>\n",
       "      <th>354</th>\n",
       "      <td>633</td>\n",
       "      <td>11.0</td>\n",
       "      <td>I-200-18268-812197</td>\n",
       "      <td>CERTIFIED</td>\n",
       "      <td>Y</td>\n",
       "      <td>3/16/19</td>\n",
       "      <td>3/15/22</td>\n",
       "      <td>MICROSOFT CORPORATION</td>\n",
       "      <td>WA</td>\n",
       "      <td>181813.0</td>\n",
       "      <td>Year</td>\n",
       "      <td>51121.0</td>\n",
       "      <td>Y</td>\n",
       "    </tr>\n",
       "    <tr>\n",
       "      <th>774</th>\n",
       "      <td>1078</td>\n",
       "      <td>11.0</td>\n",
       "      <td>I-200-19009-988705</td>\n",
       "      <td>CERTIFIED</td>\n",
       "      <td>Y</td>\n",
       "      <td>6/25/19</td>\n",
       "      <td>6/24/22</td>\n",
       "      <td>MICROSOFT CORPORATION</td>\n",
       "      <td>WA</td>\n",
       "      <td>186909.0</td>\n",
       "      <td>Year</td>\n",
       "      <td>51121.0</td>\n",
       "      <td>Y</td>\n",
       "    </tr>\n",
       "    <tr>\n",
       "      <th>3236</th>\n",
       "      <td>3673</td>\n",
       "      <td>11.0</td>\n",
       "      <td>I-200-19059-433559</td>\n",
       "      <td>CERTIFIED</td>\n",
       "      <td>Y</td>\n",
       "      <td>3/18/19</td>\n",
       "      <td>3/17/22</td>\n",
       "      <td>MICROSOFT CORPORATION</td>\n",
       "      <td>WA</td>\n",
       "      <td>174420.0</td>\n",
       "      <td>Year</td>\n",
       "      <td>51121.0</td>\n",
       "      <td>Y</td>\n",
       "    </tr>\n",
       "    <tr>\n",
       "      <th>12625</th>\n",
       "      <td>14078</td>\n",
       "      <td>11.0</td>\n",
       "      <td>I-200-18274-855269</td>\n",
       "      <td>CERTIFIED</td>\n",
       "      <td>Y</td>\n",
       "      <td>10/22/2018</td>\n",
       "      <td>10/21/2021</td>\n",
       "      <td>MICROSOFT CORPORATION</td>\n",
       "      <td>WA</td>\n",
       "      <td>123000.0</td>\n",
       "      <td>Year</td>\n",
       "      <td>51121.0</td>\n",
       "      <td>Y</td>\n",
       "    </tr>\n",
       "    <tr>\n",
       "      <th>12771</th>\n",
       "      <td>14230</td>\n",
       "      <td>11.0</td>\n",
       "      <td>I-200-18319-210629</td>\n",
       "      <td>CERTIFIED</td>\n",
       "      <td>Y</td>\n",
       "      <td>05/17/2019</td>\n",
       "      <td>05/16/2022</td>\n",
       "      <td>MICROSOFT CORPORATION</td>\n",
       "      <td>WA</td>\n",
       "      <td>160600.0</td>\n",
       "      <td>Year</td>\n",
       "      <td>51121.0</td>\n",
       "      <td>Y</td>\n",
       "    </tr>\n",
       "    <tr>\n",
       "      <th>...</th>\n",
       "      <td>...</td>\n",
       "      <td>...</td>\n",
       "      <td>...</td>\n",
       "      <td>...</td>\n",
       "      <td>...</td>\n",
       "      <td>...</td>\n",
       "      <td>...</td>\n",
       "      <td>...</td>\n",
       "      <td>...</td>\n",
       "      <td>...</td>\n",
       "      <td>...</td>\n",
       "      <td>...</td>\n",
       "      <td>...</td>\n",
       "    </tr>\n",
       "    <tr>\n",
       "      <th>596620</th>\n",
       "      <td>663149</td>\n",
       "      <td>41.0</td>\n",
       "      <td>I-200-19150-546610</td>\n",
       "      <td>CERTIFIED</td>\n",
       "      <td>Y</td>\n",
       "      <td>7/17/19</td>\n",
       "      <td>7/16/22</td>\n",
       "      <td>MICROSOFT CORPORATION</td>\n",
       "      <td>WA</td>\n",
       "      <td>133578.0</td>\n",
       "      <td>Year</td>\n",
       "      <td>51121.0</td>\n",
       "      <td>Y</td>\n",
       "    </tr>\n",
       "    <tr>\n",
       "      <th>596671</th>\n",
       "      <td>663201</td>\n",
       "      <td>41.0</td>\n",
       "      <td>I-200-19157-262687</td>\n",
       "      <td>CERTIFIED</td>\n",
       "      <td>Y</td>\n",
       "      <td>6/13/19</td>\n",
       "      <td>6/12/22</td>\n",
       "      <td>MICROSOFT CORPORATION</td>\n",
       "      <td>WA</td>\n",
       "      <td>104000.0</td>\n",
       "      <td>Year</td>\n",
       "      <td>51121.0</td>\n",
       "      <td>Y</td>\n",
       "    </tr>\n",
       "    <tr>\n",
       "      <th>596882</th>\n",
       "      <td>663417</td>\n",
       "      <td>41.0</td>\n",
       "      <td>I-200-19196-882956</td>\n",
       "      <td>CERTIFIED</td>\n",
       "      <td>Y</td>\n",
       "      <td>7/26/19</td>\n",
       "      <td>7/26/22</td>\n",
       "      <td>MICROSOFT CORPORATION</td>\n",
       "      <td>WA</td>\n",
       "      <td>140104.0</td>\n",
       "      <td>Year</td>\n",
       "      <td>51121.0</td>\n",
       "      <td>Y</td>\n",
       "    </tr>\n",
       "    <tr>\n",
       "      <th>596892</th>\n",
       "      <td>663427</td>\n",
       "      <td>41.0</td>\n",
       "      <td>I-200-19197-648761</td>\n",
       "      <td>CERTIFIED</td>\n",
       "      <td>Y</td>\n",
       "      <td>1/15/20</td>\n",
       "      <td>1/14/23</td>\n",
       "      <td>MICROSOFT CORPORATION</td>\n",
       "      <td>WA</td>\n",
       "      <td>122593.0</td>\n",
       "      <td>Year</td>\n",
       "      <td>51121.0</td>\n",
       "      <td>Y</td>\n",
       "    </tr>\n",
       "    <tr>\n",
       "      <th>597036</th>\n",
       "      <td>663575</td>\n",
       "      <td>41.0</td>\n",
       "      <td>I-200-19231-004229</td>\n",
       "      <td>CERTIFIED</td>\n",
       "      <td>Y</td>\n",
       "      <td>8/26/19</td>\n",
       "      <td>8/25/22</td>\n",
       "      <td>MICROSOFT CORPORATION</td>\n",
       "      <td>WA</td>\n",
       "      <td>139910.0</td>\n",
       "      <td>Year</td>\n",
       "      <td>51121.0</td>\n",
       "      <td>Y</td>\n",
       "    </tr>\n",
       "  </tbody>\n",
       "</table>\n",
       "<p>6040 rows x 13 columns</p>\n",
       "</div>"
      ],
      "text/plain": [
       "        Unnamed: 0  SOC_CODE         CASE_NUMBER CASE_STATUS  \\\n",
       "354            633      11.0  I-200-18268-812197   CERTIFIED   \n",
       "774           1078      11.0  I-200-19009-988705   CERTIFIED   \n",
       "3236          3673      11.0  I-200-19059-433559   CERTIFIED   \n",
       "12625        14078      11.0  I-200-18274-855269   CERTIFIED   \n",
       "12771        14230      11.0  I-200-18319-210629   CERTIFIED   \n",
       "...            ...       ...                 ...         ...   \n",
       "596620      663149      41.0  I-200-19150-546610   CERTIFIED   \n",
       "596671      663201      41.0  I-200-19157-262687   CERTIFIED   \n",
       "596882      663417      41.0  I-200-19196-882956   CERTIFIED   \n",
       "596892      663427      41.0  I-200-19197-648761   CERTIFIED   \n",
       "597036      663575      41.0  I-200-19231-004229   CERTIFIED   \n",
       "\n",
       "       FULL_TIME_POSITION PERIOD_OF_EMPLOYMENT_START_DATE  \\\n",
       "354                     Y                         3/16/19   \n",
       "774                     Y                         6/25/19   \n",
       "3236                    Y                         3/18/19   \n",
       "12625                   Y                      10/22/2018   \n",
       "12771                   Y                      05/17/2019   \n",
       "...                   ...                             ...   \n",
       "596620                  Y                         7/17/19   \n",
       "596671                  Y                         6/13/19   \n",
       "596882                  Y                         7/26/19   \n",
       "596892                  Y                         1/15/20   \n",
       "597036                  Y                         8/26/19   \n",
       "\n",
       "       PERIOD_OF_EMPLOYMENT_END_DATE          EMPLOYER_NAME EMPLOYER_STATE  \\\n",
       "354                          3/15/22  MICROSOFT CORPORATION             WA   \n",
       "774                          6/24/22  MICROSOFT CORPORATION             WA   \n",
       "3236                         3/17/22  MICROSOFT CORPORATION             WA   \n",
       "12625                     10/21/2021  MICROSOFT CORPORATION             WA   \n",
       "12771                     05/16/2022  MICROSOFT CORPORATION             WA   \n",
       "...                              ...                    ...            ...   \n",
       "596620                       7/16/22  MICROSOFT CORPORATION             WA   \n",
       "596671                       6/12/22  MICROSOFT CORPORATION             WA   \n",
       "596882                       7/26/22  MICROSOFT CORPORATION             WA   \n",
       "596892                       1/14/23  MICROSOFT CORPORATION             WA   \n",
       "597036                       8/25/22  MICROSOFT CORPORATION             WA   \n",
       "\n",
       "        WAGE_RATE_OF_PAY_FROM_1 WAGE_UNIT_OF_PAY_1  NAICS_CODE  \\\n",
       "354                    181813.0               Year     51121.0   \n",
       "774                    186909.0               Year     51121.0   \n",
       "3236                   174420.0               Year     51121.0   \n",
       "12625                  123000.0               Year     51121.0   \n",
       "12771                  160600.0               Year     51121.0   \n",
       "...                         ...                ...         ...   \n",
       "596620                 133578.0               Year     51121.0   \n",
       "596671                 104000.0               Year     51121.0   \n",
       "596882                 140104.0               Year     51121.0   \n",
       "596892                 122593.0               Year     51121.0   \n",
       "597036                 139910.0               Year     51121.0   \n",
       "\n",
       "       FULL_TIME_POSITION.1  \n",
       "354                       Y  \n",
       "774                       Y  \n",
       "3236                      Y  \n",
       "12625                     Y  \n",
       "12771                     Y  \n",
       "...                     ...  \n",
       "596620                    Y  \n",
       "596671                    Y  \n",
       "596882                    Y  \n",
       "596892                    Y  \n",
       "597036                    Y  \n",
       "\n",
       "[6040 rows x 13 columns]"
      ]
     },
     "execution_count": 11,
     "metadata": {},
     "output_type": "execute_result"
    }
   ],
   "source": [
    "df[df['EMPLOYER_NAME'] == 'MICROSOFT CORPORATION']"
   ]
  },
  {
   "cell_type": "code",
   "execution_count": 32,
   "id": "comprehensive-allocation",
   "metadata": {},
   "outputs": [
    {
     "name": "stdout",
     "output_type": "stream",
     "text": [
      "CPU times: user 2.8 s, sys: 1.08 s, total: 3.88 s\n",
      "Wall time: 1min 53s\n"
     ]
    }
   ],
   "source": [
    "%%time\n",
    "df = df.dropna(how = 'all',axis=0).dropna(how = 'all',axis=1)"
   ]
  },
  {
   "cell_type": "code",
   "execution_count": 48,
   "id": "indian-million",
   "metadata": {},
   "outputs": [
    {
     "name": "stderr",
     "output_type": "stream",
     "text": [
      "UserWarning: sort_values defaulting to pandas implementation.\n"
     ]
    }
   ],
   "source": [
    "na_cols = (df.isna().sum(axis=0)*100/len(df)).sort_values(ascending=False)"
   ]
  },
  {
   "cell_type": "code",
   "execution_count": 50,
   "id": "flush-corrections",
   "metadata": {},
   "outputs": [
    {
     "name": "stdout",
     "output_type": "stream",
     "text": [
      "47 columns are missing 50% of the values\n"
     ]
    }
   ],
   "source": [
    "p = 99\n",
    "print(f\"{sum(na_cols>p)} columns are missing {p}% of the values\")"
   ]
  },
  {
   "cell_type": "code",
   "execution_count": 44,
   "id": "architectural-eligibility",
   "metadata": {},
   "outputs": [],
   "source": [
    "#Remove empty columns\n",
    "empty_cols = list(na_cols.index[na_cols>p])\n",
    "df.drop(empty_cols,axis=1,inplace=True)"
   ]
  },
  {
   "cell_type": "code",
   "execution_count": 54,
   "id": "through-playlist",
   "metadata": {},
   "outputs": [
    {
     "name": "stderr",
     "output_type": "stream",
     "text": [
      "UserWarning: `DataFrame.to_csv` defaulting to pandas implementation.\n",
      "UserWarning: Distributing <class 'pandas.core.frame.DataFrame'> object. This may take some time.\n"
     ]
    }
   ],
   "source": [
    "df.to_csv('data/interim/H1B_FY2019.csv')"
   ]
  },
  {
   "cell_type": "code",
   "execution_count": 2,
   "id": "trained-teaching",
   "metadata": {},
   "outputs": [],
   "source": [
    "df = pd.read_csv('data/interim/H1B_FY2019.csv')"
   ]
  },
  {
   "cell_type": "code",
   "execution_count": 3,
   "id": "sensitive-challenge",
   "metadata": {},
   "outputs": [],
   "source": [
    "#Very rare worksite locations info\n",
    "cols = [re.match('.*_[2-9]',i).group() for i in df.columns if re.match('.*_[2-9]',i) is not None]"
   ]
  },
  {
   "cell_type": "code",
   "execution_count": 4,
   "id": "fifty-satin",
   "metadata": {},
   "outputs": [],
   "source": [
    "df.drop(cols,axis=1,inplace=True)"
   ]
  },
  {
   "cell_type": "code",
   "execution_count": 5,
   "id": "selected-bracket",
   "metadata": {},
   "outputs": [],
   "source": [
    "status_mask = (df['CASE_STATUS'] == 'CERTIFIED') | (df['CASE_STATUS'] == 'WITHDRAWN')"
   ]
  },
  {
   "cell_type": "code",
   "execution_count": 6,
   "id": "convenient-filter",
   "metadata": {},
   "outputs": [],
   "source": [
    "df = df[status_mask]"
   ]
  },
  {
   "cell_type": "code",
   "execution_count": 7,
   "id": "fundamental-ranking",
   "metadata": {},
   "outputs": [
    {
     "data": {
      "text/plain": [
       "CERTIFIED    96.784122\n",
       "WITHDRAWN     3.215878\n",
       "dtype: float64"
      ]
     },
     "execution_count": 7,
     "metadata": {},
     "output_type": "execute_result"
    }
   ],
   "source": [
    "df['CASE_STATUS'].value_counts()*100/len(df)"
   ]
  },
  {
   "cell_type": "code",
   "execution_count": 8,
   "id": "drawn-electronics",
   "metadata": {},
   "outputs": [
    {
     "data": {
      "text/plain": [
       "CERTIFIED    592103\n",
       "WITHDRAWN     19674\n",
       "dtype: int64"
      ]
     },
     "execution_count": 8,
     "metadata": {},
     "output_type": "execute_result"
    }
   ],
   "source": [
    "df['CASE_STATUS'].value_counts()"
   ]
  },
  {
   "cell_type": "code",
   "execution_count": 131,
   "id": "posted-housing",
   "metadata": {},
   "outputs": [
    {
     "data": {
      "text/plain": [
       "SOFTWARE DEVELOPERS, APPLICATIONS        200519\n",
       "COMPUTER OCCUPATIONS, ALL OTHER           52865\n",
       "COMPUTER SYSTEMS ANALYST                  40836\n",
       "COMPUTER SYSTEMS ANALYSTS                 29301\n",
       "SOFTWARE DEVELOPERS, SYSTEMS SOFTWARE     29150\n",
       "                                          ...  \n",
       "ACCOUNTS AND AUDITORS                         1\n",
       "ACCOUNTANTS AND AUDOTORS                      1\n",
       "17-2072                                       1\n",
       "15-2031                                       1\n",
       "15-1121                                       1\n",
       "Length: 886, dtype: int64"
      ]
     },
     "execution_count": 131,
     "metadata": {},
     "output_type": "execute_result"
    }
   ],
   "source": [
    "df['SOC_TITLE'].value_counts()"
   ]
  },
  {
   "cell_type": "code",
   "execution_count": 10,
   "id": "pleased-disclaimer",
   "metadata": {},
   "outputs": [
    {
     "data": {
      "text/plain": [
       "NEW_EMPLOYMENT                303034.0\n",
       "CONTINUED_EMPLOYMENT          141510.0\n",
       "CHANGE_PREVIOUS_EMPLOYMENT     74299.0\n",
       "NEW_CONCURRENT_EMPLOYMENT       8518.0\n",
       "dtype: float64"
      ]
     },
     "execution_count": 10,
     "metadata": {},
     "output_type": "execute_result"
    }
   ],
   "source": [
    "df[['NEW_EMPLOYMENT','CONTINUED_EMPLOYMENT','CHANGE_PREVIOUS_EMPLOYMENT','NEW_CONCURRENT_EMPLOYMENT']].sum()"
   ]
  },
  {
   "cell_type": "code",
   "execution_count": 22,
   "id": "seventh-small",
   "metadata": {},
   "outputs": [
    {
     "data": {
      "text/plain": [
       "Level II     0.530597\n",
       "Level III    0.196667\n",
       "Level I      0.156490\n",
       "Level IV     0.116247\n",
       "dtype: float64"
      ]
     },
     "execution_count": 22,
     "metadata": {},
     "output_type": "execute_result"
    }
   ],
   "source": [
    "df['PW_WAGE_LEVEL_1'].value_counts(normalize = True)"
   ]
  },
  {
   "cell_type": "code",
   "execution_count": 23,
   "id": "overhead-sampling",
   "metadata": {},
   "outputs": [
    {
     "data": {
      "text/plain": [
       "Level II     0.530485\n",
       "Level III    0.197595\n",
       "Level I      0.155482\n",
       "Level IV     0.116438\n",
       "dtype: float64"
      ]
     },
     "execution_count": 23,
     "metadata": {},
     "output_type": "execute_result"
    }
   ],
   "source": [
    "status_mask = df['CASE_STATUS'] == 'CERTIFIED'\n",
    "df.loc[status_mask,'PW_WAGE_LEVEL_1'].value_counts(normalize = True)"
   ]
  },
  {
   "cell_type": "code",
   "execution_count": 24,
   "id": "approximate-survival",
   "metadata": {},
   "outputs": [
    {
     "data": {
      "text/plain": [
       "Level II     0.503389\n",
       "Level I      0.196362\n",
       "Level III    0.180115\n",
       "Level IV     0.120134\n",
       "dtype: float64"
      ]
     },
     "execution_count": 24,
     "metadata": {},
     "output_type": "execute_result"
    }
   ],
   "source": [
    "df.loc[~status_mask,'PW_WAGE_LEVEL_1'].value_counts(normalize = True)"
   ]
  },
  {
   "cell_type": "code",
   "execution_count": 27,
   "id": "abstract-final",
   "metadata": {},
   "outputs": [
    {
     "data": {
      "text/plain": [
       "N    598012\n",
       "Y       250\n",
       "dtype: int64"
      ]
     },
     "execution_count": 27,
     "metadata": {},
     "output_type": "execute_result"
    }
   ],
   "source": [
    "df['WILLFUL_VIOLATOR'].value_counts()"
   ]
  },
  {
   "cell_type": "code",
   "execution_count": 32,
   "id": "potential-monitor",
   "metadata": {},
   "outputs": [
    {
     "data": {
      "text/plain": [
       "N    0.999661\n",
       "Y    0.000339\n",
       "dtype: float64"
      ]
     },
     "execution_count": 32,
     "metadata": {},
     "output_type": "execute_result"
    }
   ],
   "source": [
    "df.loc[status_mask,'WILLFUL_VIOLATOR'].value_counts(normalize = True)"
   ]
  },
  {
   "cell_type": "code",
   "execution_count": 33,
   "id": "sought-moses",
   "metadata": {},
   "outputs": [
    {
     "data": {
      "text/plain": [
       "N    0.997327\n",
       "Y    0.002673\n",
       "dtype: float64"
      ]
     },
     "execution_count": 33,
     "metadata": {},
     "output_type": "execute_result"
    }
   ],
   "source": [
    "df.loc[~status_mask,'WILLFUL_VIOLATOR'].value_counts(normalize = True)"
   ]
  },
  {
   "cell_type": "code",
   "execution_count": 97,
   "id": "plastic-montgomery",
   "metadata": {},
   "outputs": [
    {
     "name": "stdout",
     "output_type": "stream",
     "text": [
      "PW_WAGE_LEVEL_1\n"
     ]
    },
    {
     "name": "stderr",
     "output_type": "stream",
     "text": [
      "UserWarning: `crosstab` defaulting to pandas implementation.\n"
     ]
    },
    {
     "name": "stdout",
     "output_type": "stream",
     "text": [
      "PW_WAGE_LEVEL_1   4.839464645531454e-46\n"
     ]
    },
    {
     "name": "stderr",
     "output_type": "stream",
     "text": [
      "UserWarning: Distributing <class 'pandas.core.frame.DataFrame'> object. This may take some time.\n"
     ]
    }
   ],
   "source": [
    "for col in ['PW_WAGE_LEVEL_1']:\n",
    "    \n",
    "    print(col)\n",
    "    contingency = pd.crosstab(df['CASE_STATUS'],\n",
    "                        df[col],\n",
    "                        margins = False)\n",
    "    p_val = chi2_contingency(contingency)[1]\n",
    "    print(col,' ',p_val)"
   ]
  },
  {
   "cell_type": "code",
   "execution_count": 106,
   "id": "elect-apache",
   "metadata": {},
   "outputs": [
    {
     "data": {
      "text/plain": [
       "CALIFORNIA          110588\n",
       "TEXAS                56078\n",
       "NEW YORK             47848\n",
       "NEW JERSEY           33024\n",
       "ILLINOIS             27641\n",
       "                     ...  \n",
       "MP                       6\n",
       "VI                       4\n",
       "PW                       1\n",
       "PALAU                    1\n",
       "MARSHALL ISLANDS         1\n",
       "Length: 113, dtype: int64"
      ]
     },
     "execution_count": 106,
     "metadata": {},
     "output_type": "execute_result"
    }
   ],
   "source": [
    "df['WORKSITE_STATE_1'].value_counts()"
   ]
  },
  {
   "cell_type": "code",
   "execution_count": 108,
   "id": "motivated-consultation",
   "metadata": {},
   "outputs": [
    {
     "data": {
      "text/plain": [
       "CA    110229\n",
       "TX     94217\n",
       "NJ     75872\n",
       "NY     40995\n",
       "IL     36602\n",
       "PA     25273\n",
       "WA     23959\n",
       "MA     23799\n",
       "MI     21409\n",
       "MD     18895\n",
       "VA     17547\n",
       "NC     15628\n",
       "GA     14726\n",
       "FL     13915\n",
       "OH      8566\n",
       "CT      5867\n",
       "TN      5540\n",
       "MO      5077\n",
       "MN      4843\n",
       "AZ      4342\n",
       "CO      3705\n",
       "AR      3445\n",
       "IN      3334\n",
       "WI      2994\n",
       "DE      2984\n",
       "UT      2256\n",
       "SC      2197\n",
       "IA      2140\n",
       "KS      1966\n",
       "DC      1957\n",
       "NE      1890\n",
       "KY      1754\n",
       "OR      1698\n",
       "AL      1453\n",
       "OK      1317\n",
       "LA      1215\n",
       "NV      1209\n",
       "RI      1102\n",
       "NH      1088\n",
       "ID       755\n",
       "NM       698\n",
       "MS       462\n",
       "ME       437\n",
       "WV       373\n",
       "VT       337\n",
       "GU       331\n",
       "ND       320\n",
       "HI       268\n",
       "SD       203\n",
       "WY       155\n",
       "AK       110\n",
       "MP        93\n",
       "MT        83\n",
       "PR        74\n",
       "VI        38\n",
       "PW         1\n",
       "FM         1\n",
       "dtype: int64"
      ]
     },
     "execution_count": 108,
     "metadata": {},
     "output_type": "execute_result"
    }
   ],
   "source": [
    "df['EMPLOYER_STATE'].value_counts()"
   ]
  },
  {
   "cell_type": "code",
   "execution_count": 112,
   "id": "seven-aggregate",
   "metadata": {},
   "outputs": [
    {
     "data": {
      "text/plain": [
       "COGNIZANT TECHNOLOGY SOLUTIONS US CORP    28454\n",
       "INFOSYS LIMITED                           21445\n",
       "TATA CONSULTANCY SERVICES LIMITED         11861\n",
       "GOOGLE LLC                                 9467\n",
       "ERNST & YOUNG U.S. LLP                     8739\n",
       "CAPGEMINI AMERICA INC                      7822\n",
       "DELOITTE CONSULTING LLP                    7745\n",
       "AMAZON.COM SERVICES, INC.                  7206\n",
       "MICROSOFT CORPORATION                      6040\n",
       "ACCENTURE LLP                              5555\n",
       "IBM CORPORATION                            4906\n",
       "HCL AMERICA, INC.                          4621\n",
       "WIPRO LIMITED                              4242\n",
       "LARSEN & TOUBRO INFOTECH LIMITED           3324\n",
       "TECH MAHINDRA (AMERICAS),INC.              2915\n",
       "FACEBOOK, INC.                             2316\n",
       "WAL-MART ASSOCIATES, INC.                  2116\n",
       "IBM INDIA PRIVATE LIMITED                  1991\n",
       "L&T TECHNOLOGY SERVICES LIMITED            1862\n",
       "SYNTEL INC                                 1731\n",
       "dtype: int64"
      ]
     },
     "execution_count": 112,
     "metadata": {},
     "output_type": "execute_result"
    }
   ],
   "source": [
    "df['EMPLOYER_NAME'].value_counts()[0:20]"
   ]
  },
  {
   "cell_type": "code",
   "execution_count": 113,
   "id": "radical-petroleum",
   "metadata": {},
   "outputs": [
    {
     "data": {
      "text/plain": [
       "67454"
      ]
     },
     "execution_count": 113,
     "metadata": {},
     "output_type": "execute_result"
    }
   ],
   "source": [
    "len(df['EMPLOYER_NAME'].unique())"
   ]
  },
  {
   "cell_type": "code",
   "execution_count": 117,
   "id": "fallen-suffering",
   "metadata": {},
   "outputs": [
    {
     "data": {
      "text/plain": [
       "1990"
      ]
     },
     "execution_count": 117,
     "metadata": {},
     "output_type": "execute_result"
    }
   ],
   "source": [
    "len(df['NAICS_CODE'].unique())"
   ]
  },
  {
   "cell_type": "code",
   "execution_count": 118,
   "id": "medium-bearing",
   "metadata": {},
   "outputs": [
    {
     "data": {
      "text/plain": [
       "541511.0    195013\n",
       "541512.0     62802\n",
       "611310.0     21974\n",
       "5416.0       18684\n",
       "54151.0      15860\n",
       "             ...  \n",
       "3241.0           1\n",
       "3122.0           1\n",
       "3112.0           1\n",
       "1122.0           1\n",
       "31.0             1\n",
       "Length: 1989, dtype: int64"
      ]
     },
     "execution_count": 118,
     "metadata": {},
     "output_type": "execute_result"
    }
   ],
   "source": [
    "df['NAICS_CODE'].value_counts()"
   ]
  },
  {
   "cell_type": "code",
   "execution_count": 22,
   "id": "black-union",
   "metadata": {},
   "outputs": [
    {
     "data": {
      "text/plain": [
       "6    360774\n",
       "4    185551\n",
       "5     51658\n",
       "3         9\n",
       "2         4\n",
       "dtype: int64"
      ]
     },
     "execution_count": 22,
     "metadata": {},
     "output_type": "execute_result"
    }
   ],
   "source": [
    "df['NAICS_CODE'].astype(str).str.replace('.0','').apply(len).value_counts()"
   ]
  },
  {
   "cell_type": "code",
   "execution_count": 23,
   "id": "broke-cornell",
   "metadata": {},
   "outputs": [
    {
     "data": {
      "text/plain": [
       "0    511210.0\n",
       "1    541810.0\n",
       "2     56142.0\n",
       "3    541810.0\n",
       "4    541810.0\n",
       "Name: NAICS_CODE, dtype: float64"
      ]
     },
     "execution_count": 23,
     "metadata": {},
     "output_type": "execute_result"
    }
   ],
   "source": [
    "df['NAICS_CODE'][0:5]"
   ]
  },
  {
   "cell_type": "code",
   "execution_count": 123,
   "id": "distant-preliminary",
   "metadata": {},
   "outputs": [
    {
     "data": {
      "text/plain": [
       "INFOSYS LIMITED                      21445\n",
       "TATA CONSULTANCY SERVICES LIMITED    11861\n",
       "HCL AMERICA, INC.                     4620\n",
       "WIPRO LIMITED                         4242\n",
       "TECH MAHINDRA (AMERICAS),INC.         2915\n",
       "                                     ...  \n",
       "24/7 SOFTWARE, INC.                      1\n",
       "1UPHEALTH, INC.                          1\n",
       "1800ADMIN, LLC.                          1\n",
       "12 SIGMA TECHNOLOGIES                    1\n",
       "1 WAY SOLUTIONS, INC.                    1\n",
       "Length: 9585, dtype: int64"
      ]
     },
     "execution_count": 123,
     "metadata": {},
     "output_type": "execute_result"
    }
   ],
   "source": [
    "df.loc[df['NAICS_CODE']==541511.0,'EMPLOYER_NAME'].value_counts()"
   ]
  },
  {
   "cell_type": "code",
   "execution_count": 124,
   "id": "peaceful-stamp",
   "metadata": {},
   "outputs": [
    {
     "data": {
      "text/plain": [
       "COGNIZANT TECHNOLOGY SOLUTIONS US CORP    28454\n",
       "GOOGLE LLC                                 9436\n",
       "POLARIS CONSULTING & SERVICES LTD           617\n",
       "HEXAWARE TECHNOLOGIES, INC.                 587\n",
       "LARSEN & TOUBRO INFOTECH LIMITED            539\n",
       "                                          ...  \n",
       "A.J. BOGGS &AMP; COMPANY                      1\n",
       "802 SECURE INC.                               1\n",
       "42 TECHNOLOGIES, INC.                         1\n",
       "3TECH CORPORATION                             1\n",
       "1                                             1\n",
       "Length: 2143, dtype: int64"
      ]
     },
     "execution_count": 124,
     "metadata": {},
     "output_type": "execute_result"
    }
   ],
   "source": [
    "df.loc[df['NAICS_CODE']==541512.0,'EMPLOYER_NAME'].value_counts()"
   ]
  },
  {
   "cell_type": "code",
   "execution_count": 126,
   "id": "affecting-wholesale",
   "metadata": {},
   "outputs": [
    {
     "data": {
      "text/plain": [
       "UNIVERSITY OF MICHIGAN                                          376\n",
       "MAYO CLINIC                                                     366\n",
       "THE BOARD OF TRUSTEES OF THE LELAND STANFORD, JR. UNIVERSITY    339\n",
       "COLUMBIA UNIVERSITY                                             258\n",
       "UNIVERSITY OF CALIFORNIA, SAN FRANCISCO                         255\n",
       "TRUSTEES OF THE UNIVERSITY OF PENNSYLVANIA                      255\n",
       "UNIVERSITY OF PITTSBURGH                                        250\n",
       "WASHINGTON UNIVERSITY IN ST. LOUIS                              231\n",
       "UNIVERSITY OF FLORIDA                                           231\n",
       "UNIVERSITY OF MINNESOTA                                         228\n",
       "HARVARD UNIVERSITY                                              211\n",
       "UNIVERSITY OF CALIFORNIA, LOS ANGELES                           210\n",
       "THE UNIVERSITY OF SOUTHERN CALIFORNIA                           209\n",
       "THE OHIO STATE UNIVERSITY                                       207\n",
       "YALE UNIVERSITY                                                 202\n",
       "THE UNIVERSITY OF CHICAGO                                       202\n",
       "THE TRUSTEES OF PRINCETON UNIVERSITY                            193\n",
       "UT SOUTHWESTERN MEDICAL CENTER                                  192\n",
       "NEW YORK UNIVERSITY                                             189\n",
       "PURDUE UNIVERSITY                                               188\n",
       "dtype: int64"
      ]
     },
     "execution_count": 126,
     "metadata": {},
     "output_type": "execute_result"
    }
   ],
   "source": [
    "df.loc[df['NAICS_CODE']==611310.0,'EMPLOYER_NAME'].value_counts()[0:20]"
   ]
  },
  {
   "cell_type": "code",
   "execution_count": 158,
   "id": "sophisticated-sharp",
   "metadata": {},
   "outputs": [],
   "source": [
    "unis = [i for i in df['EMPLOYER_NAME'] if 'UNIVERSITY' in str(i)]"
   ]
  },
  {
   "cell_type": "code",
   "execution_count": 162,
   "id": "allied-sterling",
   "metadata": {},
   "outputs": [
    {
     "data": {
      "text/plain": [
       "611310.0    18871\n",
       "622110.0      513\n",
       "61131.0       259\n",
       "6113.0        240\n",
       "621111.0      125\n",
       "62111.0        96\n",
       "541710.0       60\n",
       "6221.0         41\n",
       "6211.0         26\n",
       "923110.0       16\n",
       "5417.0         15\n",
       "92311.0        12\n",
       "54171.0        11\n",
       "611710.0       10\n",
       "541712.0        9\n",
       "813211.0        8\n",
       "624190.0        8\n",
       "611210.0        8\n",
       "611110.0        8\n",
       "541990.0        8\n",
       "523920.0        7\n",
       "541810.0        3\n",
       "522130.0        3\n",
       "813110.0        2\n",
       "611610.0        2\n",
       "518210.0        2\n",
       "813410.0        1\n",
       "622210.0        1\n",
       "621493.0        1\n",
       "621399.0        1\n",
       "621210.0        1\n",
       "621112.0        1\n",
       "541618.0        1\n",
       "541513.0        1\n",
       "541511.0        1\n",
       "238990.0        1\n",
       "115112.0        1\n",
       "81321.0         1\n",
       "62211.0         1\n",
       "56111.0         1\n",
       "54138.0         1\n",
       "54133.0         1\n",
       "44531.0         1\n",
       "6215.0          1\n",
       "6117.0          1\n",
       "5259.0          1\n",
       "dtype: int64"
      ]
     },
     "execution_count": 162,
     "metadata": {},
     "output_type": "execute_result"
    }
   ],
   "source": [
    "df.loc[df['EMPLOYER_NAME'].isin(unis),'NAICS_CODE'].value_counts()"
   ]
  },
  {
   "cell_type": "code",
   "execution_count": 13,
   "id": "convinced-mauritius",
   "metadata": {},
   "outputs": [
    {
     "data": {
      "text/plain": [
       "Index(['Unnamed: 0', 'CASE_NUMBER', 'CASE_STATUS', 'CASE_SUBMITTED',\n",
       "       'DECISION_DATE', 'ORIGINAL_CERT_DATE', 'VISA_CLASS', 'JOB_TITLE',\n",
       "       'SOC_CODE', 'SOC_TITLE',\n",
       "       ...\n",
       "       'WAGE_UNIT_OF_PAY_3', 'PREVAILING_WAGE_3', 'PW_UNIT_OF_PAY_3',\n",
       "       'PW_WAGE_LEVEL_3', 'PW_NON-OES_YEAR_3', 'H-1B_DEPENDENT',\n",
       "       'WILLFUL_VIOLATOR', 'SUPPORT_H1B', 'STATUTORY_BASIS',\n",
       "       'PUBLIC_DISCLOSURE'],\n",
       "      dtype='object', length=101)"
      ]
     },
     "execution_count": 13,
     "metadata": {},
     "output_type": "execute_result"
    }
   ],
   "source": [
    "df.columns"
   ]
  },
  {
   "cell_type": "code",
   "execution_count": 151,
   "id": "immediate-toyota",
   "metadata": {},
   "outputs": [
    {
     "name": "stderr",
     "output_type": "stream",
     "text": [
      "UserWarning: `DataFrame.squeeze` for empty DataFrame defaulting to pandas implementation.\n",
      "UserWarning: Distributing <class 'pandas.core.series.Series'> object. This may take some time.\n",
      "UserWarning: `Series.value_counts` for empty DataFrame defaulting to pandas implementation.\n"
     ]
    },
    {
     "data": {
      "text/plain": [
       "Series([], Name: NAICS_CODE, dtype: int64)"
      ]
     },
     "execution_count": 151,
     "metadata": {},
     "output_type": "execute_result"
    }
   ],
   "source": [
    "df.loc[df['EMPLOYER_NAME'].isin(['UNIVERSITY']),'NAICS_CODE'].value_counts()"
   ]
  }
 ],
 "metadata": {
  "kernelspec": {
   "display_name": "Python 3.7.6 64-bit ('base': conda)",
   "language": "python",
   "name": "python37664bitbaseconda15aae41925a8475e86b7bea0cce036d9"
  },
  "language_info": {
   "codemirror_mode": {
    "name": "ipython",
    "version": 3
   },
   "file_extension": ".py",
   "mimetype": "text/x-python",
   "name": "python",
   "nbconvert_exporter": "python",
   "pygments_lexer": "ipython3",
   "version": "3.7.9"
  },
  "toc": {
   "base_numbering": 1,
   "nav_menu": {},
   "number_sections": true,
   "sideBar": true,
   "skip_h1_title": false,
   "title_cell": "Table of Contents",
   "title_sidebar": "Contents",
   "toc_cell": false,
   "toc_position": {},
   "toc_section_display": true,
   "toc_window_display": false
  }
 },
 "nbformat": 4,
 "nbformat_minor": 5
}
